{
 "cells": [
  {
   "cell_type": "markdown",
   "id": "competitive-weather",
   "metadata": {},
   "source": [
    "# PseudoDojo notebook for Xe-spd"
   ]
  },
  {
   "cell_type": "code",
   "execution_count": null,
   "id": "occupied-attachment",
   "metadata": {},
   "outputs": [],
   "source": [
    "from __future__ import print_function, division, unicode_literals\n",
    "#import seaborn\n",
    "%matplotlib inline"
   ]
  },
  {
   "cell_type": "code",
   "execution_count": null,
   "id": "stuck-lemon",
   "metadata": {},
   "outputs": [],
   "source": [
    "import warnings\n",
    "warnings.filterwarnings(\"ignore\")\n",
    "\n",
    "from IPython.display import HTML\n",
    "HTML('''\n",
    "<style>\n",
    "body {\n",
    "background-image: url('http://www.pseudo-dojo.org/img/pw_maze_white.png');\n",
    "}\n",
    "</style>\n",
    "<script>\n",
    "code_show=true;\n",
    "function code_toggle() {\n",
    " if (code_show) {\n",
    "    $('div.input').hide();\n",
    " } else {\n",
    "    $('div.input').show();\n",
    " }\n",
    " code_show = !code_show;\n",
    "}\n",
    "//$(document).ready(code_toggle);\n",
    "\n",
    "document.addEventListener(\"DOMContentLoaded\", function(event) {\n",
    "  code_toggle();\n",
    "});\n",
    "\n",
    "\n",
    "</script>\n",
    "The raw code for this IPython notebook is by default hidden for easier reading.\n",
    "To toggle on/off the raw code, click <a href=\"javascript:code_toggle()\">here</a>.''')"
   ]
  },
  {
   "cell_type": "code",
   "execution_count": null,
   "id": "reliable-armstrong",
   "metadata": {},
   "outputs": [],
   "source": [
    "from pseudo_dojo.core.pseudos import dojopseudo_from_file\n",
    "pseudo = dojopseudo_from_file('/Users/gmatteo/git_repos/pseudodojo_experiments/Xe/Xe-spd.psp8')\n",
    "report = pseudo.dojo_report"
   ]
  },
  {
   "cell_type": "markdown",
   "id": "characteristic-carter",
   "metadata": {},
   "source": [
    "## ONCVPSP Input File"
   ]
  },
  {
   "cell_type": "code",
   "execution_count": null,
   "id": "naval-regular",
   "metadata": {},
   "outputs": [],
   "source": [
    "input_file = pseudo.filepath.replace(\".psp8\", \".in\")\n",
    "%cat $input_file"
   ]
  },
  {
   "cell_type": "code",
   "execution_count": null,
   "id": "clinical-trustee",
   "metadata": {},
   "outputs": [],
   "source": [
    "# Get data from the oncvpsp output file\n",
    "from pseudo_dojo.ppcodes.oncvpsp import OncvOutputParser, PseudoGenDataPlotter\n",
    "onc_parser = OncvOutputParser(pseudo.filepath.replace(\".psp8\", \".out\"))\n",
    "\n",
    "# Parse the file and build the plotter\n",
    "onc_parser.scan()\n",
    "plotter = onc_parser.make_plotter()"
   ]
  },
  {
   "cell_type": "markdown",
   "id": "divine-blanket",
   "metadata": {},
   "source": [
    "## AE and PS radial wavefunctions $\\phi(r)$"
   ]
  },
  {
   "cell_type": "code",
   "execution_count": null,
   "id": "quality-rebel",
   "metadata": {},
   "outputs": [],
   "source": [
    "fig = plotter.plot_radial_wfs()"
   ]
  },
  {
   "cell_type": "markdown",
   "id": "continental-crossing",
   "metadata": {},
   "source": [
    "## Arctan of the logarithmic derivatives\n",
    "\n",
    "The plots show\n",
    "\n",
    "    $$ \\phi(E) = \\\\arctan(R * d \\psi(r)/dr |_R) $$\n",
    "\n",
    "for some $R$ greater than the core radius, where $\\psi$ is the solution of the non-local\n",
    "radial equation regular at the origin (i.e., the outward-integrated solution).\n",
    "\n",
    "For a well-designed pseudopotential, $\\phi(E)$ will closely track that of the all-electron potential\n",
    "over a wide range of energies from well-below to well-above the valence semi-core states of interest.\n",
    "The steps of $\\pi$ indicate localized pseudo wave functions.\n",
    "Spurious steps of $\\pi$ indicate **ghost states**, which are localized states than on investigation\n",
    "turn out to have more nodes than appropriate for their energies.\n",
    "\n",
    "For $GW$ pseudos, no significant deviation should be present up to 8 Hartree."
   ]
  },
  {
   "cell_type": "code",
   "execution_count": null,
   "id": "tough-circular",
   "metadata": {},
   "outputs": [],
   "source": [
    "fig = plotter.plot_atan_logders()"
   ]
  },
  {
   "cell_type": "markdown",
   "id": "quarterly-cooperation",
   "metadata": {},
   "source": [
    "## Convergence in $G$-space estimated by ONCVPSP\n",
    "These results are obtained in the atomic configuration and should give a reasonable estimate\n",
    "of the convergence behaviour wrt to `ecut` in crystalline systems."
   ]
  },
  {
   "cell_type": "code",
   "execution_count": null,
   "id": "european-portrait",
   "metadata": {},
   "outputs": [],
   "source": [
    "fig = plotter.plot_ene_vs_ecut()"
   ]
  },
  {
   "cell_type": "markdown",
   "id": "unable-exclusion",
   "metadata": {},
   "source": [
    "## Projectors"
   ]
  },
  {
   "cell_type": "code",
   "execution_count": null,
   "id": "forty-discovery",
   "metadata": {},
   "outputs": [],
   "source": [
    "fig = plotter.plot_projectors()"
   ]
  },
  {
   "cell_type": "markdown",
   "id": "historic-guarantee",
   "metadata": {},
   "source": [
    "## Core-Valence-Model charge densities"
   ]
  },
  {
   "cell_type": "code",
   "execution_count": null,
   "id": "explicit-village",
   "metadata": {},
   "outputs": [],
   "source": [
    "fig = plotter.plot_densities()"
   ]
  },
  {
   "cell_type": "markdown",
   "id": "brown-letter",
   "metadata": {},
   "source": [
    "## Local potential and $l$-dependent potentials"
   ]
  },
  {
   "cell_type": "code",
   "execution_count": null,
   "id": "optional-perception",
   "metadata": {},
   "outputs": [],
   "source": [
    "fig = plotter.plot_potentials()"
   ]
  },
  {
   "cell_type": "markdown",
   "id": "commercial-attendance",
   "metadata": {},
   "source": [
    "## Ghosts Test\n",
    "\n",
    "Self-consistent band structure calculation performed on a regular mesh.\n",
    "The algorithm to detect ghosts is just an indication usually on the side of false positives.\n"
   ]
  },
  {
   "cell_type": "code",
   "execution_count": null,
   "id": "southwest-genius",
   "metadata": {},
   "outputs": [],
   "source": [
    "fig = report.plot_ebands(with_soc=False)"
   ]
  },
  {
   "cell_type": "markdown",
   "id": "rocky-boston",
   "metadata": {},
   "source": [
    "## Convergence of the total energy wrt ecut\n",
    "The energies are obtained from the deltafactor calculations performed at the Wien2K equilibrium volume"
   ]
  },
  {
   "cell_type": "code",
   "execution_count": null,
   "id": "precise-homeless",
   "metadata": {},
   "outputs": [],
   "source": [
    "fig = report.plot_etotal_vs_ecut()"
   ]
  },
  {
   "cell_type": "code",
   "execution_count": null,
   "id": "dedicated-negotiation",
   "metadata": {},
   "outputs": [],
   "source": [
    "fig = report.plot_etotal_vs_ecut(inv_ecut=True)"
   ]
  },
  {
   "cell_type": "markdown",
   "id": "multiple-ministry",
   "metadata": {},
   "source": [
    "## Convergence of the Delta-Gauge results\n",
    "\n",
    "The Delta-gauge compares the Equation Of State (EOS) of the elemental solid of the element calculated using the pseudo\n",
    "potential to reference curves calculated using an all electron method. The Delta-gauge was introduced by K. Lejaeghere,\n",
    "V. Van Speybroeck, G. Van Oost, and&S. Cottenier in\n",
    "[Critical Reviews in Solid State and Materials Sciences 39, 1](http://www.tandfonline.com/doi/abs/10.1080/10408436.2013.772503)\n",
    "\n",
    "A comparison using the Delta-gauge between many codes and many pseudo tables can be found at the\n",
    "[center for molecular modeling](http://molmod.ugent.be/deltacodesdft) and in\n",
    "[Science 351, 1394-1395](http://science.sciencemag.org/content/351/6280/aad3000.full?ijkey=teUZMpwU49vhY&keytype=ref&siteid=sci)\n"
   ]
  },
  {
   "cell_type": "code",
   "execution_count": null,
   "id": "nonprofit-apache",
   "metadata": {},
   "outputs": [],
   "source": [
    "fig = report.plot_deltafactor_convergence(xc=pseudo.xc, what=(\"dfact_meV\", \"dfactprime_meV\"))"
   ]
  },
  {
   "cell_type": "markdown",
   "id": "exclusive-compilation",
   "metadata": {},
   "source": [
    "## Convergence of $\\Delta v_0$, $\\Delta b_0$, and $\\Delta b_1$ (deltafactor tests)"
   ]
  },
  {
   "cell_type": "code",
   "execution_count": null,
   "id": "legal-proposition",
   "metadata": {},
   "outputs": [],
   "source": [
    "# Absolute difference with respect to Wien2k results.\n",
    "fig = report.plot_deltafactor_convergence(xc=pseudo.xc, what=(\"-dfact_meV\", \"-dfactprime_meV\"))"
   ]
  },
  {
   "cell_type": "markdown",
   "id": "surprised-fourth",
   "metadata": {},
   "source": [
    "## Delta-gauge EOS for the different cutoff energies"
   ]
  },
  {
   "cell_type": "code",
   "execution_count": null,
   "id": "closed-draft",
   "metadata": {},
   "outputs": [],
   "source": [
    "fig = report.plot_deltafactor_eos()"
   ]
  },
  {
   "cell_type": "markdown",
   "id": "yellow-probability",
   "metadata": {},
   "source": [
    "## Convergence of the GBRV lattice parameters\n",
    "\n",
    "The GBRV tests compare the lattice parameter of a FCC and BCC lattice of the element to all electron reference\n",
    "data. The test was introduced by Kevin F. Garrity, Joseph W. Bennett, Karin M. Rabe, and David Vanderbilt in\n",
    "developing th GBRV pseudo potential table. More information can be found in [Computational Materials Science 81,\n",
    "446-452.](http://www.sciencedirect.com/science/article/pii/S0927025613005077)\n"
   ]
  },
  {
   "cell_type": "code",
   "execution_count": null,
   "id": "lightweight-bachelor",
   "metadata": {},
   "outputs": [],
   "source": [
    "fig = report.plot_gbrv_convergence()"
   ]
  },
  {
   "cell_type": "markdown",
   "id": "prerequisite-liberia",
   "metadata": {},
   "source": [
    "## Convergence of the phonon frequencies at $\\Gamma$\n",
    "The calculation is performed with the Wien2k relaxed parameters obtained from the deltafactor CIF files.\n"
   ]
  },
  {
   "cell_type": "code",
   "execution_count": null,
   "id": "selective-luxembourg",
   "metadata": {},
   "outputs": [],
   "source": [
    "fig = report.plot_phonon_convergence()"
   ]
  },
  {
   "cell_type": "markdown",
   "id": "invisible-makeup",
   "metadata": {},
   "source": [
    "## Convergence of rocksalt lattice parameter."
   ]
  },
  {
   "cell_type": "code",
   "execution_count": null,
   "id": "academic-theory",
   "metadata": {},
   "outputs": [],
   "source": [
    "fig = report.plot_raren_convergence(pseudo.xc)"
   ]
  },
  {
   "cell_type": "code",
   "execution_count": null,
   "id": "dated-billion",
   "metadata": {},
   "outputs": [],
   "source": [
    "fig = report.plot_raren_convergence(pseudo.xc, plot_diffs=True)"
   ]
  }
 ],
 "metadata": {},
 "nbformat": 4,
 "nbformat_minor": 5
}
